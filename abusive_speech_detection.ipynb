{
  "nbformat": 4,
  "nbformat_minor": 0,
  "metadata": {
    "colab": {
      "name": "abusive-speech-detection.ipynb",
      "provenance": [],
      "collapsed_sections": [],
      "authorship_tag": "ABX9TyPnjXsCU11F1rBdATTBMRWZ",
      "include_colab_link": true
    },
    "kernelspec": {
      "name": "python3",
      "display_name": "Python 3"
    },
    "language_info": {
      "name": "python"
    }
  },
  "cells": [
    {
      "cell_type": "markdown",
      "metadata": {
        "id": "view-in-github",
        "colab_type": "text"
      },
      "source": [
        "<a href=\"https://colab.research.google.com/github/hate-speech-classification/abusive-level-classification/blob/loocv/abusive_speech_detection.ipynb\" target=\"_parent\"><img src=\"https://colab.research.google.com/assets/colab-badge.svg\" alt=\"Open In Colab\"/></a>"
      ]
    },
    {
      "cell_type": "code",
      "execution_count": 2,
      "metadata": {
        "colab": {
          "base_uri": "https://localhost:8080/"
        },
        "id": "sLBHplZdXhe_",
        "outputId": "417c314b-39b4-4eda-92a7-9746536793fc"
      },
      "outputs": [
        {
          "output_type": "stream",
          "name": "stdout",
          "text": [
            "[nltk_data] Downloading package stopwords to /root/nltk_data...\n",
            "[nltk_data]   Unzipping corpora/stopwords.zip.\n"
          ]
        }
      ],
      "source": [
        "\"\"\"\n",
        "Init\n",
        "\"\"\"\n",
        "import logging\n",
        "import pandas as pd\n",
        "import numpy as np\n",
        "from numpy import random\n",
        "import gensim\n",
        "import nltk\n",
        "from sklearn.model_selection import train_test_split\n",
        "from sklearn.feature_extraction.text import CountVectorizer, TfidfVectorizer\n",
        "from sklearn.metrics import accuracy_score, confusion_matrix\n",
        "import matplotlib.pyplot as plt\n",
        "nltk.download('stopwords')\n",
        "from nltk.corpus import stopwords\n",
        "import re\n",
        "from bs4 import BeautifulSoup\n",
        "%matplotlib inline\n",
        "# Import necessary modules\n",
        "from sklearn.model_selection import train_test_split\n",
        "from sklearn.metrics import mean_squared_error\n",
        "from math import sqrt\n",
        "from sklearn import model_selection\n",
        "from sklearn.linear_model import LogisticRegression\n",
        "from sklearn.model_selection import KFold\n",
        "from sklearn.model_selection import LeaveOneOut\n",
        "from sklearn.model_selection import LeavePOut\n",
        "from sklearn.model_selection import ShuffleSplit\n",
        "from sklearn.model_selection import StratifiedKFold"
      ]
    },
    {
      "cell_type": "code",
      "source": [
        "\"\"\"\n",
        "Read data from csv (url from github)\n",
        "\"\"\"\n",
        "url_train_data = 'https://raw.githubusercontent.com/amandacurry/convabuse/main/2_splits/ConvAbuseEMNLPtrain.csv'\n",
        "df = pd.read_csv(url_train_data)\n",
        "\n",
        "\"\"\"\n",
        "Create new column labels\n",
        "\"\"\"\n",
        "def categorise(row):\n",
        "  if row['Annotator1_is_abuse.1'] == '1':\n",
        "    return 'Not abusive'\n",
        "  elif row['Annotator1_is_abuse.0'] == '1':\n",
        "    return \"Ambiguous\"\n",
        "  elif row['Annotator1_is_abuse.-1'] == '1':\n",
        "    return \"Mildly abusive\"\n",
        "  elif row['Annotator1_is_abuse.-2'] == '1':\n",
        "    return \"Strongly abusive\"\n",
        "  elif row['Annotator1_is_abuse.-3'] == '1':\n",
        "    return \"Very strongly abusive\"\n",
        "\n",
        "my_tags = ['Not abusive', 'Ambiguous', 'Midly abusive', 'Strongly abusive', 'Very strongly abusive']\n",
        "df['abusive_level'] = df.apply(lambda row: categorise(row), axis=1) \n",
        "df = df[pd.notnull(df['abusive_level'])]\n",
        "# df.tail(10)"
      ],
      "metadata": {
        "id": "fDjqnPHcXs4I"
      },
      "execution_count": 3,
      "outputs": []
    },
    {
      "cell_type": "code",
      "source": [
        "\"\"\"\n",
        "Clean text (user column)\n",
        "\"\"\"\n",
        "REPLACE_BY_SPACE_RE = re.compile('[/(){}\\[\\]\\|@,;]')\n",
        "BAD_SYMBOLS_RE = re.compile('[^0-9a-z #+_]')\n",
        "STOPWORDS = set(stopwords.words('english'))\n",
        "\n",
        "def clean_text(text):\n",
        "    \"\"\"\n",
        "        text: a string\n",
        "        \n",
        "        return: modified initial string\n",
        "    \"\"\"\n",
        "    text = BeautifulSoup(text, \"lxml\").text # HTML decoding\n",
        "    text = text.lower() # lowercase text\n",
        "    text = REPLACE_BY_SPACE_RE.sub(' ', text) # replace REPLACE_BY_SPACE_RE symbols by space in text\n",
        "    text = BAD_SYMBOLS_RE.sub('', text) # delete symbols which are in BAD_SYMBOLS_RE from text\n",
        "    text = ' '.join(word for word in text.split() if word not in STOPWORDS) # delete stopwors from text\n",
        "    return text\n",
        "    \n",
        "df['user'] = df['user'].apply(clean_text)\n",
        "data = df[['user','abusive_level']]\n",
        "X = data.user\n",
        "Y = data.abusive_level\n",
        "# LOOCV\n",
        "loocv = model_selection.LeaveOneOut()"
      ],
      "metadata": {
        "id": "RuBvcSA-e3YU"
      },
      "execution_count": 13,
      "outputs": []
    },
    {
      "cell_type": "code",
      "source": [
        "\"\"\"\n",
        "Naive Bayes Classifier \n",
        "Idea: text is categorized based on TF*IDF (term frequency * inverse data frequency)\n",
        "\"\"\"\n",
        "\n",
        "from sklearn.naive_bayes import MultinomialNB\n",
        "from sklearn.pipeline import Pipeline\n",
        "from sklearn.feature_extraction.text import TfidfTransformer\n",
        "\n",
        "nb = Pipeline([('vect', CountVectorizer()),\n",
        "               ('tfidf', TfidfTransformer()),\n",
        "               ('clf', MultinomialNB()),\n",
        "              ])\n",
        "nb.fit(X, Y)\n",
        "\n",
        "# %%time\n",
        "from sklearn.metrics import classification_report\n",
        "# y_pred = nb.predict(X_test)\n",
        "# results_loocv = model_selection.cross_val_score(nb, X, Y, cv=loocv)\n",
        "# print(\"Accuracy: %.2f%%\" % (results_loocv.mean()*100.0)) \n",
        "y_pred = model_selection.cross_val_predict(nb, X, Y, cv=loocv)\n",
        "print('accuracy %.2f%%' % accuracy_score(y_pred, Y))\n",
        "print(classification_report(Y, y_pred,target_names=my_tags,zero_division=1))\n",
        "# print('accuracy %s' % accuracy_score(y_pred, y_test))"
      ],
      "metadata": {
        "colab": {
          "base_uri": "https://localhost:8080/"
        },
        "id": "Q-jOeX_2tncl",
        "outputId": "cc43beb2-9389-4401-a0b4-d6b251bd65ed"
      },
      "execution_count": 18,
      "outputs": [
        {
          "output_type": "stream",
          "name": "stdout",
          "text": [
            "accuracy 0.79%\n",
            "                       precision    recall  f1-score   support\n",
            "\n",
            "          Not abusive       1.00      0.00      0.00        15\n",
            "            Ambiguous       0.83      0.08      0.15        59\n",
            "        Midly abusive       0.79      1.00      0.88       473\n",
            "     Strongly abusive       0.65      0.21      0.32        62\n",
            "Very strongly abusive       1.00      0.00      0.00        13\n",
            "\n",
            "             accuracy                           0.79       622\n",
            "            macro avg       0.86      0.26      0.27       622\n",
            "         weighted avg       0.79      0.79      0.72       622\n",
            "\n"
          ]
        }
      ]
    },
    {
      "cell_type": "code",
      "source": [
        "\"\"\"\n",
        "Linear Support Vector Machine\n",
        "Idea: text is categorized based on TF*IDF (term frequency * inverse data frequency)\n",
        "\"\"\"\n",
        "\n",
        "from sklearn.linear_model import SGDClassifier\n",
        "\n",
        "sgd = Pipeline([('vect', CountVectorizer()),\n",
        "                ('tfidf', TfidfTransformer()),\n",
        "                ('clf', SGDClassifier(loss='hinge', penalty='l2',alpha=1e-3, random_state=42, max_iter=5, tol=None)),\n",
        "               ])\n",
        "sgd.fit(X, Y)\n",
        "\n",
        "# %%time\n",
        "y_pred = model_selection.cross_val_predict(sgd, X, Y, cv=loocv)\n",
        "print('accuracy %.2f%%' % accuracy_score(y_pred, Y))\n",
        "print(classification_report(Y, y_pred,target_names=my_tags,zero_division=1)) \n",
        "# y_pred = sgd.predict(X_test)\n",
        "\n",
        "# print('accuracy %s' % accuracy_score(y_pred, y_test))\n",
        "# print(classification_report(y_test, y_pred,target_names=my_tags,zero_division=1))"
      ],
      "metadata": {
        "colab": {
          "base_uri": "https://localhost:8080/"
        },
        "id": "xejOTK2HwSPe",
        "outputId": "a55e3bf5-d9d5-4668-bf3e-5364f75c49cc"
      },
      "execution_count": 20,
      "outputs": [
        {
          "output_type": "stream",
          "name": "stdout",
          "text": [
            "accuracy 0.82%\n",
            "                       precision    recall  f1-score   support\n",
            "\n",
            "          Not abusive       0.00      0.00      0.00        15\n",
            "            Ambiguous       0.47      0.15      0.23        59\n",
            "        Midly abusive       0.85      0.99      0.91       473\n",
            "     Strongly abusive       0.67      0.50      0.57        62\n",
            "Very strongly abusive       0.33      0.23      0.27        13\n",
            "\n",
            "             accuracy                           0.82       622\n",
            "            macro avg       0.47      0.37      0.40       622\n",
            "         weighted avg       0.77      0.82      0.78       622\n",
            "\n"
          ]
        }
      ]
    },
    {
      "cell_type": "code",
      "source": [
        "\"\"\"\n",
        "Logistic Regression\n",
        "Idea: text is categorized based on TF*IDF (term frequency * inverse data frequency)\n",
        "\"\"\"\n",
        "\n",
        "\n",
        "from sklearn.linear_model import LogisticRegression\n",
        "\n",
        "logreg = Pipeline([('vect', CountVectorizer()),\n",
        "                ('tfidf', TfidfTransformer()),\n",
        "                ('clf', LogisticRegression(n_jobs=1, C=1e5, max_iter=100000)),\n",
        "               ])\n",
        "logreg.fit(X, Y)\n",
        "\n",
        "# %%time\n",
        "y_pred = model_selection.cross_val_predict(nb, X, Y, cv=loocv)\n",
        "print('accuracy %.2f%%' % accuracy_score(y_pred, Y))\n",
        "print(classification_report(Y, y_pred,target_names=my_tags,zero_division=1))"
      ],
      "metadata": {
        "colab": {
          "base_uri": "https://localhost:8080/"
        },
        "id": "MsjGQf4vwXvk",
        "outputId": "9aea276f-102c-472b-ac91-b6b8c57a3af2"
      },
      "execution_count": 21,
      "outputs": [
        {
          "output_type": "stream",
          "name": "stdout",
          "text": [
            "accuracy 0.79%\n",
            "                       precision    recall  f1-score   support\n",
            "\n",
            "          Not abusive       1.00      0.00      0.00        15\n",
            "            Ambiguous       0.83      0.08      0.15        59\n",
            "        Midly abusive       0.79      1.00      0.88       473\n",
            "     Strongly abusive       0.65      0.21      0.32        62\n",
            "Very strongly abusive       1.00      0.00      0.00        13\n",
            "\n",
            "             accuracy                           0.79       622\n",
            "            macro avg       0.86      0.26      0.27       622\n",
            "         weighted avg       0.79      0.79      0.72       622\n",
            "\n"
          ]
        }
      ]
    }
  ]
}